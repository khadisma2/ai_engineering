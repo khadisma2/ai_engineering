{
 "cells": [
  {
   "cell_type": "code",
   "execution_count": null,
   "id": "06c219cf",
   "metadata": {
    "vscode": {
     "languageId": "plaintext"
    }
   },
   "outputs": [],
   "source": [
    "print(\"hello world, join the tech savvy\")\n"
   ]
  },
  {
   "cell_type": "markdown",
   "id": "514ff2bd",
   "metadata": {},
   "source": [
    "print(\"hello world, we are learning python\")\n"
   ]
  }
 ],
 "metadata": {
  "language_info": {
   "name": "python"
  }
 },
 "nbformat": 4,
 "nbformat_minor": 5
}
